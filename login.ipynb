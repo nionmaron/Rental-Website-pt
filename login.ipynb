{
  "cells": [
    {
      "cell_type": "raw",
      "metadata": {},
      "source": [
        "---\n",
        "title: \"logirtn\"\n",
        "---"
      ],
      "id": "f3ff9fa7"
    },
    {
      "cell_type": "markdown",
      "metadata": {},
      "source": [
        "4wrtwer\n",
        "\n",
        "\n",
        "```{html}\n",
        "\n",
        "</html>\n",
        "\n",
        "```"
      ],
      "id": "329611da"
    }
  ],
  "metadata": {
    "kernelspec": {
      "display_name": "Python 3",
      "language": "python",
      "name": "python3"
    }
  },
  "nbformat": 4,
  "nbformat_minor": 5
}